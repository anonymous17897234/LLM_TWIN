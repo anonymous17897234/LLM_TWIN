{
 "cells": [
  {
   "cell_type": "code",
   "execution_count": 1,
   "metadata": {},
   "outputs": [],
   "source": [
    "import pandas as pd\n",
    "import numpy as np\n",
    "import os\n",
    "import warnings\n",
    "warnings.filterwarnings(\"ignore\")"
   ]
  },
  {
   "cell_type": "code",
   "execution_count": 2,
   "metadata": {},
   "outputs": [],
   "source": [
    "# Column names for question items\n",
    "ori_responses = [\"LOY_1\", \"LOY_2\", \"LOY_3\"]\n",
    "target_df = pd.read_excel('DataInBrief_Bankdata.xlsx')\n",
    "selected_columns_df = target_df[ori_responses]\n",
    "base_path = './Data_Case1' ## example path for given result data we provided\n"
   ]
  },
  {
   "cell_type": "code",
   "execution_count": 3,
   "metadata": {},
   "outputs": [],
   "source": [
    "distance_dict = {\n",
    "    1: -1, \n",
    "    2: -1, \n",
    "    3: -1, \n",
    "    4: 0, \n",
    "    5: 1, \n",
    "    6: 1, \n",
    "    7: 1\n",
    "}"
   ]
  },
  {
   "cell_type": "code",
   "execution_count": 4,
   "metadata": {},
   "outputs": [
    {
     "name": "stdout",
     "output_type": "stream",
     "text": [
      "==========Results of Demo_prompting===========\n",
      "\n",
      "Q1 Accuracy: 83.11%\n",
      "Q2 Accuracy: 30.67%\n",
      "Q3 Accuracy: 40.74%\n",
      "Mean Accuracy: 51.51%\n",
      "\n",
      "==========Results of Omni_prompting===========\n",
      "\n",
      "Q1 Accuracy: 84.89%\n",
      "Q2 Accuracy: 65.19%\n",
      "Q3 Accuracy: 43.56%\n",
      "Mean Accuracy: 64.54%\n",
      "\n"
     ]
    }
   ],
   "source": [
    "results = []\n",
    "\n",
    "for folder in os.listdir(base_path):\n",
    "    folder_path = os.path.join(base_path, folder)\n",
    "    if os.path.isdir(folder_path):\n",
    "        llm_file = os.path.join(folder_path, 'llm_responses.csv')\n",
    "        llm_df = pd.read_csv(llm_file, index_col=0)\n",
    "        print(f\"==========Results of {folder}===========\\n\")\n",
    "\n",
    "        original_df_mapped = selected_columns_df.applymap(lambda x: distance_dict.get(x, None))\n",
    "        llm_df_mapped = llm_df.applymap(lambda x: distance_dict.get(x, None))\n",
    "        if list(original_df_mapped.index) != list(llm_df_mapped.index):\n",
    "            print(\"Error!\")\n",
    "        accuracies = []\n",
    "        for i in range(1, 4):\n",
    "            llm_df_mapped[f'Q{i}_original'] = original_df_mapped.iloc[:, i - 1]\n",
    "            llm_df_mapped[f'Q{i}_check'] = np.where(llm_df_mapped[f'Q{i}_original'] == llm_df_mapped[f'Q{i}'], 1, 0)\n",
    "            accuracy = llm_df_mapped[f'Q{i}_check'].mean() * 100\n",
    "            accuracies.append(accuracy)\n",
    "        mean_accuracy = sum(accuracies) / len(accuracies)\n",
    "        \n",
    "        print(f\"Q1 Accuracy: {accuracies[0]:.2f}%\")\n",
    "        print(f\"Q2 Accuracy: {accuracies[1]:.2f}%\")\n",
    "        print(f\"Q3 Accuracy: {accuracies[2]:.2f}%\")\n",
    "        print(f\"Mean Accuracy: {mean_accuracy:.2f}%\\n\")\n",
    "\n",
    "        results.append({\n",
    "            'Folder': folder,\n",
    "            'Q1_Accuracy': accuracies[0],\n",
    "            'Q2_Accuracy': accuracies[1],\n",
    "            'Q3_Accuracy': accuracies[2],\n",
    "            'Mean_Accuracy': mean_accuracy\n",
    "        })"
   ]
  },
  {
   "cell_type": "code",
   "execution_count": 5,
   "metadata": {},
   "outputs": [],
   "source": [
    "save_path = './analysis_result/appendix/consistency_analysis_case1/'\n",
    "if not os.path.exists(save_path):\n",
    "    os.makedirs(save_path)\n",
    "\n",
    "results_df = pd.DataFrame(results)\n",
    "results_df.to_csv('./analysis_result/appendix/consistency_analysis_case1/result.csv', index=False)"
   ]
  },
  {
   "cell_type": "code",
   "execution_count": null,
   "metadata": {},
   "outputs": [],
   "source": []
  }
 ],
 "metadata": {
  "kernelspec": {
   "display_name": "Python 3",
   "language": "python",
   "name": "python3"
  },
  "language_info": {
   "codemirror_mode": {
    "name": "ipython",
    "version": 3
   },
   "file_extension": ".py",
   "mimetype": "text/x-python",
   "name": "python",
   "nbconvert_exporter": "python",
   "pygments_lexer": "ipython3",
   "version": "3.11.6"
  }
 },
 "nbformat": 4,
 "nbformat_minor": 2
}
