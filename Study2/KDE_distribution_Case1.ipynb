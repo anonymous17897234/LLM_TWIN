{
 "cells": [
  {
   "cell_type": "code",
   "execution_count": 1,
   "metadata": {},
   "outputs": [],
   "source": [
    "import os\n",
    "import seaborn as sns\n",
    "import matplotlib.pyplot as plt\n",
    "import pandas as pd\n",
    "import warnings\n",
    "warnings.filterwarnings(\"ignore\")"
   ]
  },
  {
   "cell_type": "code",
   "execution_count": 2,
   "metadata": {},
   "outputs": [],
   "source": [
    "llm_responses = ['Q1', 'Q2', 'Q3']\n",
    "ori_responses = [\"LOY_1\", \"LOY_2\", \"LOY_3\"]\n",
    "\n",
    "target_df = pd.read_excel('DataInBrief_Bankdata.xlsx')\n",
    "selected_columns_df = target_df[ori_responses]\n",
    "base_path = './Data_Case1' ## example path for given result data we provided\n",
    "folders = os.listdir(base_path)\n",
    "result_dir = './analysis_result/KDE_distribution_study2_case1'"
   ]
  },
  {
   "cell_type": "code",
   "execution_count": 3,
   "metadata": {},
   "outputs": [
    {
     "name": "stdout",
     "output_type": "stream",
     "text": [
      "./Data_Case1\\Demo_prompting\n",
      "./Data_Case1\\Omni_prompting\n"
     ]
    }
   ],
   "source": [
    "import seaborn as sns\n",
    "import matplotlib.pyplot as plt\n",
    "\n",
    "for folder in folders:\n",
    "    folder_path = os.path.join(base_path, folder)\n",
    "    print(folder_path)\n",
    "    if os.path.isdir(folder_path):\n",
    "        llm_df = pd.read_csv(f'./{folder_path}/llm_responses.csv', index_col=0)\n",
    "\n",
    "        approach = folder.split('_')[:-1]\n",
    "        if '_' in approach:\n",
    "            approach = ' '.join(approach)\n",
    "        approach = ' '.join(approach).capitalize()  \n",
    "        approach = approach + ' prompting'\n",
    "\n",
    "        save_path = os.path.join(result_dir, folder)\n",
    "        if not os.path.exists(save_path):\n",
    "            os.makedirs(save_path)\n",
    "\n",
    "        for q in range(3):\n",
    "            orig_col = selected_columns_df.iloc[:, q]\n",
    "            llm_col = llm_df.iloc[:, q]\n",
    "            \n",
    "            plt.figure(figsize=(6, 4))\n",
    "            sns.kdeplot(orig_col, color='blue', label=\"Human\", fill=False, alpha=0.5, linestyle='-')  \n",
    "            sns.kdeplot(llm_col, color='red', label=approach, fill=False, alpha=0.5, linestyle='--')  \n",
    "            \n",
    "            plt.title(f\"Distribution of Question {q+1}: Human vs {approach}\")\n",
    "            plt.xlabel(\"Response Values\")\n",
    "            plt.ylabel(\"Density\")\n",
    "            plt.legend(loc='upper left')\n",
    "\n",
    "            plt.savefig(os.path.join(save_path, f\"Q{q+1}.png\"))\n",
    "            plt.close()  "
   ]
  },
  {
   "cell_type": "code",
   "execution_count": null,
   "metadata": {},
   "outputs": [],
   "source": []
  }
 ],
 "metadata": {
  "kernelspec": {
   "display_name": "Python 3",
   "language": "python",
   "name": "python3"
  },
  "language_info": {
   "codemirror_mode": {
    "name": "ipython",
    "version": 3
   },
   "file_extension": ".py",
   "mimetype": "text/x-python",
   "name": "python",
   "nbconvert_exporter": "python",
   "pygments_lexer": "ipython3",
   "version": "3.11.6"
  }
 },
 "nbformat": 4,
 "nbformat_minor": 2
}
