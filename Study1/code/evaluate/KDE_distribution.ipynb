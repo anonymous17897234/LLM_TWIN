{
 "cells": [
  {
   "cell_type": "code",
   "execution_count": 2,
   "source": [
    "import os\n",
    "import seaborn as sns\n",
    "import matplotlib.pyplot as plt\n",
    "import pandas as pd"
   ],
   "outputs": [],
   "metadata": {}
  },
  {
   "cell_type": "code",
   "execution_count": 3,
   "source": [
    "original_df = pd.read_csv('../../data/idv_total.csv', index_col=0)\n",
    "\n",
    "base_path = '../../data'\n",
    "folders = os.listdir(base_path)\n",
    "\n",
    "result_dir = '../../analysis_result/KDE_distribution'"
   ],
   "outputs": [],
   "metadata": {}
  },
  {
   "cell_type": "code",
   "execution_count": 4,
   "source": [
    "import seaborn as sns\n",
    "import matplotlib.pyplot as plt\n",
    "\n",
    "for folder in folders:\n",
    "    folder_path = os.path.join(base_path, folder)\n",
    "    \n",
    "    if os.path.isdir(folder_path):\n",
    "        llm_df = pd.read_csv(f'../../data/{folder}/llm_responses.csv', index_col=0)\n",
    "\n",
    "        approach = folder.split('_')[:-1]\n",
    "        if '_' in approach:\n",
    "            approach = ' '.join(approach)\n",
    "        approach = ' '.join(approach).capitalize()  \n",
    "        approach = approach + ' prompting'\n",
    "\n",
    "        save_path = os.path.join(result_dir, folder)\n",
    "        if not os.path.exists(save_path):\n",
    "            os.makedirs(save_path)\n",
    "\n",
    "        for q in range(4):\n",
    "            orig_col = original_df.iloc[:, q]\n",
    "            llm_col = llm_df.iloc[:, q]\n",
    "            \n",
    "            plt.figure(figsize=(6, 4))\n",
    "            sns.kdeplot(orig_col, color='blue', label=\"Human\", fill=False, alpha=0.5, linestyle='-')  \n",
    "            sns.kdeplot(llm_col, color='red', label=approach, fill=False, alpha=0.5, linestyle='--')  \n",
    "            \n",
    "            plt.title(f\"Distribution of Question {q+1}: Human vs {approach}\")\n",
    "            plt.xlabel(\"Response Values\")\n",
    "            plt.ylabel(\"Density\")\n",
    "            plt.legend()\n",
    "\n",
    "            plt.savefig(os.path.join(save_path, f\"Q{q+1}.png\"))\n",
    "            plt.close()  "
   ],
   "outputs": [],
   "metadata": {}
  },
  {
   "cell_type": "code",
   "execution_count": null,
   "source": [],
   "outputs": [],
   "metadata": {}
  }
 ],
 "metadata": {
  "orig_nbformat": 4,
  "language_info": {
   "name": "python",
   "version": "3.9.6",
   "mimetype": "text/x-python",
   "codemirror_mode": {
    "name": "ipython",
    "version": 3
   },
   "pygments_lexer": "ipython3",
   "nbconvert_exporter": "python",
   "file_extension": ".py"
  },
  "kernelspec": {
   "name": "python3",
   "display_name": "Python 3.9.6 64-bit"
  },
  "interpreter": {
   "hash": "31f2aee4e71d21fbe5cf8b01ff0e069b9275f58929596ceb00d14d90e3e16cd6"
  }
 },
 "nbformat": 4,
 "nbformat_minor": 2
}